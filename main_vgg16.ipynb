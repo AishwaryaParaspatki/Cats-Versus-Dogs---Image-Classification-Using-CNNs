{
 "cells": [
  {
   "cell_type": "code",
   "execution_count": 1,
   "metadata": {},
   "outputs": [
    {
     "name": "stdout",
     "output_type": "stream",
     "text": [
      "importing Jupyter notebook from utils.ipynb\n"
     ]
    }
   ],
   "source": [
    "import os\n",
    "import random\n",
    "import warnings\n",
    "warnings.filterwarnings(\"ignore\")\n",
    "import import_ipynb\n",
    "import utils\n",
    "from utils import train_test_split"
   ]
  },
  {
   "cell_type": "code",
   "execution_count": 2,
   "metadata": {},
   "outputs": [],
   "source": [
    "src = 'Dataset/PetImages/'\n",
    "\n",
    "# create the train/test folders if it does not exists already\n",
    "if not os.path.isdir(src+'train/'):\n",
    "    train_test_split(src)"
   ]
  },
  {
   "cell_type": "code",
   "execution_count": 3,
   "metadata": {},
   "outputs": [
    {
     "name": "stderr",
     "output_type": "stream",
     "text": [
      "Using TensorFlow backend.\n"
     ]
    }
   ],
   "source": [
    "from keras.applications.vgg16 import VGG16\n",
    "from keras.models import Model\n",
    "from keras.layers import Dense, Flatten\n",
    "from keras.preprocessing.image import ImageDataGenerator"
   ]
  },
  {
   "cell_type": "code",
   "execution_count": 4,
   "metadata": {},
   "outputs": [],
   "source": [
    "# Define hyperparameters\n",
    "INPUT_SIZE = 128 #Change this to 48 if the code is taking too long to run\n",
    "BATCH_SIZE = 16\n",
    "STEPS_PER_EPOCH = 200\n",
    "EPOCHS = 3\n",
    "\n",
    "vgg16 = VGG16(include_top = False, weights = 'imagenet', input_shape = (INPUT_SIZE,INPUT_SIZE, 3))"
   ]
  },
  {
   "cell_type": "code",
   "execution_count": 5,
   "metadata": {},
   "outputs": [],
   "source": [
    "# Freeze the pre-trained layers\n",
    "for layer in vgg16.layers:\n",
    "    layer.trainable = False"
   ]
  },
  {
   "cell_type": "code",
   "execution_count": 6,
   "metadata": {},
   "outputs": [
    {
     "name": "stdout",
     "output_type": "stream",
     "text": [
      "Found 19997 images belonging to 2 classes.\n",
      "Found 5000 images belonging to 2 classes.\n",
      "Epoch 1/3\n",
      "200/200 [==============================] - 306s 2s/step - loss: 0.3817 - accuracy: 0.8203\n",
      "Epoch 2/3\n",
      "200/200 [==============================] - 298s 1s/step - loss: 0.2793 - accuracy: 0.8781\n",
      "Epoch 3/3\n",
      "200/200 [==============================] - 295s 1s/step - loss: 0.2693 - accuracy: 0.8897\n",
      "loss: 0.47205138206481934\n",
      "accuracy: 0.8762500286102295\n"
     ]
    }
   ],
   "source": [
    "# Add a fully connected layer with 1 node at the end \n",
    "input_ = vgg16.input\n",
    "output_ = vgg16(input_)\n",
    "last_layer = Flatten(name = 'flatten')(output_)\n",
    "last_layer = Dense(1, activation = 'sigmoid')(last_layer)\n",
    "model = Model(input = input_, output = last_layer)\n",
    "\n",
    "model.compile(optimizer = 'adam', loss = 'binary_crossentropy', metrics = ['accuracy'])\n",
    "\n",
    "training_data_generator = ImageDataGenerator(rescale = 1./255)\n",
    "testing_data_generator = ImageDataGenerator(rescale = 1./255)\n",
    "\n",
    "training_set = training_data_generator.flow_from_directory(src + 'Train/',\n",
    "                                                target_size = (INPUT_SIZE, INPUT_SIZE),\n",
    "                                                batch_size = BATCH_SIZE,\n",
    "                                                class_mode = 'binary')\n",
    "\n",
    "test_set = testing_data_generator.flow_from_directory(src + 'Test/',\n",
    "                                             target_size = (INPUT_SIZE, INPUT_SIZE),\n",
    "                                             batch_size = BATCH_SIZE,\n",
    "                                             class_mode = 'binary')\n",
    "\n",
    "model.fit_generator(training_set, steps_per_epoch = STEPS_PER_EPOCH, epochs = EPOCHS, verbose = 1)\n",
    "\n",
    "score = model.evaluate_generator(test_set, steps = 100)\n",
    "\n",
    "for idx, metric in enumerate(model.metrics_names):\n",
    "    print(\"{}: {}\".format(metric, score[idx]))"
   ]
  },
  {
   "cell_type": "code",
   "execution_count": null,
   "metadata": {},
   "outputs": [],
   "source": []
  }
 ],
 "metadata": {
  "kernelspec": {
   "display_name": "Python 3",
   "language": "python",
   "name": "python3"
  },
  "language_info": {
   "codemirror_mode": {
    "name": "ipython",
    "version": 3
   },
   "file_extension": ".py",
   "mimetype": "text/x-python",
   "name": "python",
   "nbconvert_exporter": "python",
   "pygments_lexer": "ipython3",
   "version": "3.7.3"
  }
 },
 "nbformat": 4,
 "nbformat_minor": 2
}
