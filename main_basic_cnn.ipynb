{
 "cells": [
  {
   "cell_type": "code",
   "execution_count": 1,
   "metadata": {},
   "outputs": [
    {
     "name": "stdout",
     "output_type": "stream",
     "text": [
      "importing Jupyter notebook from utils.ipynb\n"
     ]
    },
    {
     "name": "stderr",
     "output_type": "stream",
     "text": [
      "Using TensorFlow backend.\n"
     ]
    },
    {
     "name": "stdout",
     "output_type": "stream",
     "text": [
      "Found 19997 images belonging to 2 classes.\n",
      "Found 5000 images belonging to 2 classes.\n",
      "Epoch 1/20\n",
      "1250/1250 [==============================] - 98s 78ms/step - loss: 0.6214 - accuracy: 0.6501\n",
      "Epoch 2/20\n",
      "1250/1250 [==============================] - 76s 61ms/step - loss: 0.5357 - accuracy: 0.7324\n",
      "Epoch 3/20\n",
      "1250/1250 [==============================] - 71s 57ms/step - loss: 0.4889 - accuracy: 0.7633\n",
      "Epoch 4/20\n",
      "1250/1250 [==============================] - 72s 58ms/step - loss: 0.4587 - accuracy: 0.7857\n",
      "Epoch 5/20\n",
      "1250/1250 [==============================] - 72s 58ms/step - loss: 0.4310 - accuracy: 0.7993\n",
      "Epoch 6/20\n",
      "1250/1250 [==============================] - 78s 62ms/step - loss: 0.4050 - accuracy: 0.8131\n",
      "Epoch 7/20\n",
      "1250/1250 [==============================] - 72s 58ms/step - loss: 0.3792 - accuracy: 0.8300\n",
      "Epoch 8/20\n",
      "1250/1250 [==============================] - 74s 59ms/step - loss: 0.3600 - accuracy: 0.8365\n",
      "Epoch 9/20\n",
      "1250/1250 [==============================] - 71s 57ms/step - loss: 0.3339 - accuracy: 0.8544\n",
      "Epoch 10/20\n",
      "1250/1250 [==============================] - 75s 60ms/step - loss: 0.3086 - accuracy: 0.8668\n",
      "Epoch 11/20\n",
      "1250/1250 [==============================] - 73s 58ms/step - loss: 0.2867 - accuracy: 0.8757\n",
      "Epoch 12/20\n",
      "1250/1250 [==============================] - 73s 59ms/step - loss: 0.2718 - accuracy: 0.8849\n",
      "Epoch 13/20\n",
      "1250/1250 [==============================] - 72s 58ms/step - loss: 0.2458 - accuracy: 0.8948\n",
      "Epoch 14/20\n",
      "1250/1250 [==============================] - 73s 58ms/step - loss: 0.2275 - accuracy: 0.9061\n",
      "Epoch 15/20\n",
      "1250/1250 [==============================] - 76s 61ms/step - loss: 0.2092 - accuracy: 0.9137\n",
      "Epoch 16/20\n",
      "1250/1250 [==============================] - 72s 58ms/step - loss: 0.1917 - accuracy: 0.9200\n",
      "Epoch 17/20\n",
      "1250/1250 [==============================] - 72s 58ms/step - loss: 0.1800 - accuracy: 0.9290\n",
      "Epoch 18/20\n",
      "1250/1250 [==============================] - 71s 57ms/step - loss: 0.1644 - accuracy: 0.9334\n",
      "Epoch 19/20\n",
      "1250/1250 [==============================] - 72s 58ms/step - loss: 0.1607 - accuracy: 0.9351\n",
      "Epoch 20/20\n",
      "1250/1250 [==============================] - 76s 61ms/step - loss: 0.1441 - accuracy: 0.9417\n",
      "loss: 0.7063166499137878\n",
      "accuracy: 0.778124988079071\n"
     ]
    }
   ],
   "source": [
    "import os\n",
    "import random\n",
    "import warnings\n",
    "warnings.filterwarnings(\"ignore\")\n",
    "import import_ipynb\n",
    "from utils import train_test_split\n",
    "\n",
    "src = 'Dataset/PetImages/'\n",
    "\n",
    "# create the train/test folders if it does not exists already\n",
    "if not os.path.isdir(src+'train/'):\n",
    "    train_test_split(src)\n",
    "\n",
    "from keras.models import Sequential\n",
    "from keras.layers import Conv2D, MaxPooling2D\n",
    "from keras.layers import Dropout, Flatten, Dense\n",
    "from keras.preprocessing.image import ImageDataGenerator\n",
    "\n",
    "# Define hyperparameters\n",
    "FILTER_SIZE = 3\n",
    "NUM_FILTERS = 32\n",
    "INPUT_SIZE  = 32\n",
    "MAXPOOL_SIZE = 2\n",
    "BATCH_SIZE = 16\n",
    "STEPS_PER_EPOCH = 20000//BATCH_SIZE\n",
    "EPOCHS = 20\n",
    "\n",
    "model = Sequential()\n",
    "model.add(Conv2D(NUM_FILTERS, (FILTER_SIZE, FILTER_SIZE), input_shape = (INPUT_SIZE, INPUT_SIZE, 3), activation = 'relu'))\n",
    "model.add(MaxPooling2D(pool_size = (MAXPOOL_SIZE, MAXPOOL_SIZE)))\n",
    "model.add(Conv2D(NUM_FILTERS, (FILTER_SIZE, FILTER_SIZE), activation = 'relu'))\n",
    "model.add(MaxPooling2D(pool_size = (MAXPOOL_SIZE, MAXPOOL_SIZE)))\n",
    "model.add(Flatten())\n",
    "model.add(Dense(units = 128, activation = 'relu'))\n",
    "model.add(Dropout(0.5))\n",
    "model.add(Dense(units = 1, activation = 'sigmoid'))\n",
    "model.compile(optimizer = 'adam', loss = 'binary_crossentropy', metrics = ['accuracy'])\n",
    "\n",
    "training_data_generator = ImageDataGenerator(rescale = 1./255)\n",
    "testing_data_generator = ImageDataGenerator(rescale = 1./255)\n",
    "\n",
    "training_set = training_data_generator.flow_from_directory(src+'Train/',\n",
    "                                                target_size = (INPUT_SIZE, INPUT_SIZE),\n",
    "                                                batch_size = BATCH_SIZE,\n",
    "                                                class_mode = 'binary')\n",
    "\n",
    "test_set = testing_data_generator.flow_from_directory(src+'Test/',\n",
    "                                             target_size = (INPUT_SIZE, INPUT_SIZE),\n",
    "                                             batch_size = BATCH_SIZE,\n",
    "                                             class_mode = 'binary')\n",
    "\n",
    "model.fit_generator(training_set, steps_per_epoch = STEPS_PER_EPOCH, epochs = EPOCHS, verbose=1)\n",
    "\n",
    "score = model.evaluate_generator(test_set, steps=100)\n",
    "\n",
    "for idx, metric in enumerate(model.metrics_names):\n",
    "    print(\"{}: {}\".format(metric, score[idx]))\n"
   ]
  },
  {
   "cell_type": "code",
   "execution_count": null,
   "metadata": {},
   "outputs": [],
   "source": []
  }
 ],
 "metadata": {
  "kernelspec": {
   "display_name": "Python 3",
   "language": "python",
   "name": "python3"
  },
  "language_info": {
   "codemirror_mode": {
    "name": "ipython",
    "version": 3
   },
   "file_extension": ".py",
   "mimetype": "text/x-python",
   "name": "python",
   "nbconvert_exporter": "python",
   "pygments_lexer": "ipython3",
   "version": "3.7.3"
  }
 },
 "nbformat": 4,
 "nbformat_minor": 2
}
