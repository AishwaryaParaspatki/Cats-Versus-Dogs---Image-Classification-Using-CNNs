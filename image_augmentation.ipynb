{
 "cells": [
  {
   "cell_type": "code",
   "execution_count": 1,
   "metadata": {},
   "outputs": [
    {
     "name": "stderr",
     "output_type": "stream",
     "text": [
      "Using TensorFlow backend.\n"
     ]
    },
    {
     "name": "stdout",
     "output_type": "stream",
     "text": [
      "6072.jpg\n"
     ]
    }
   ],
   "source": [
    "import matplotlib\n",
    "matplotlib.use(\"TkAgg\")\n",
    "from keras.preprocessing.image import ImageDataGenerator\n",
    "from matplotlib import pyplot as plt\n",
    "import numpy as np\n",
    "import random\n",
    "import os\n",
    "\n",
    "src = 'Dataset/PetImages/'\n",
    "\n",
    "image_generator = ImageDataGenerator(rotation_range = 30,\n",
    "                                     width_shift_range = 0.2,\n",
    "                                     height_shift_range = 0.2,\n",
    "                                     zoom_range = 0.2,\n",
    "                                     horizontal_flip=True,\n",
    "                                     fill_mode='nearest')\n",
    "\n",
    "fig, ax = plt.subplots(2,3, figsize=(20,10))\n",
    "all_images = []\n",
    "\n",
    "_, _, dog_images = next(os.walk('Dataset/PetImages/Train/Dog/'))\n",
    "random_img = random.sample(dog_images, 1)[0]\n",
    "print(random_img)\n",
    "random_img = plt.imread('Dataset/PetImages/Train/Dog/'+random_img)\n",
    "all_images.append(random_img)\n",
    "\n",
    "random_img = random_img.reshape((1,) + random_img.shape)\n",
    "sample_augmented_images = image_generator.flow(random_img)\n",
    "\n",
    "for _ in range(5):\n",
    "    augmented_imgs = sample_augmented_images.next()\n",
    "    for img in augmented_imgs:\n",
    "        all_images.append(img.astype('uint8'))\n",
    "\n",
    "for idx, img in enumerate(all_images):\n",
    "    ax[int(idx/3), idx%3].imshow(img)\n",
    "    ax[int(idx/3), idx%3].axis('off')\n",
    "    if idx == 0:\n",
    "        ax[int(idx/3), idx%3].set_title('Original Image')\n",
    "    else:\n",
    "        ax[int(idx/3), idx%3].set_title('Augmented Image {}'.format(idx))\n",
    "\n",
    "\n",
    "plt.show()"
   ]
  },
  {
   "cell_type": "code",
   "execution_count": null,
   "metadata": {},
   "outputs": [],
   "source": []
  }
 ],
 "metadata": {
  "kernelspec": {
   "display_name": "Python 3",
   "language": "python",
   "name": "python3"
  },
  "language_info": {
   "codemirror_mode": {
    "name": "ipython",
    "version": 3
   },
   "file_extension": ".py",
   "mimetype": "text/x-python",
   "name": "python",
   "nbconvert_exporter": "python",
   "pygments_lexer": "ipython3",
   "version": "3.7.3"
  }
 },
 "nbformat": 4,
 "nbformat_minor": 2
}
