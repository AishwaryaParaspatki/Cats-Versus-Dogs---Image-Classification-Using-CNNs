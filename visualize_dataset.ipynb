{
 "cells": [
  {
   "cell_type": "code",
   "execution_count": 1,
   "metadata": {},
   "outputs": [],
   "source": [
    "import matplotlib\n",
    "matplotlib.use(\"TkAgg\")\n",
    "from matplotlib import pyplot as plt\n",
    "import os\n",
    "import random\n",
    "\n",
    "src = 'Dataset/PetImages/'\n",
    "\n",
    "# Get list of file names\n",
    "_, _, cat_images = next(os.walk('Dataset/PetImages/Cat'))\n",
    "\n",
    "# Prepare a 3x3 plot (total of 9 images)\n",
    "fig, ax = plt.subplots(3,3, figsize=(20,10))\n",
    "\n",
    "# Randomly select and plot an image\n",
    "for idx, img in enumerate(random.sample(cat_images, 9)):\n",
    "    img_read = plt.imread('Dataset/PetImages/Cat/'+img)\n",
    "    ax[int(idx/3), idx%3].imshow(img_read)\n",
    "    ax[int(idx/3), idx%3].axis('off')\n",
    "    ax[int(idx/3), idx%3].set_title('Cat/'+img)\n",
    "\n",
    "plt.show()\n",
    "\n",
    "# Get list of file names\n",
    "_, _, dog_images = next(os.walk('Dataset/PetImages/Dog'))\n",
    "\n",
    "# Prepare a 3x3 plot (total of 9 images)\n",
    "fig, ax = plt.subplots(3,3, figsize=(20,10))\n",
    "\n",
    "# Randomly select and plot an image\n",
    "for idx, img in enumerate(random.sample(dog_images, 9)):\n",
    "    img_read = plt.imread('Dataset/PetImages/Dog/'+img)\n",
    "    ax[int(idx/3), idx%3].imshow(img_read)\n",
    "    ax[int(idx/3), idx%3].axis('off')\n",
    "    ax[int(idx/3), idx%3].set_title('Dog/'+img)\n",
    "\n",
    "plt.show()"
   ]
  },
  {
   "cell_type": "code",
   "execution_count": null,
   "metadata": {},
   "outputs": [],
   "source": []
  }
 ],
 "metadata": {
  "kernelspec": {
   "display_name": "Python 3",
   "language": "python",
   "name": "python3"
  },
  "language_info": {
   "codemirror_mode": {
    "name": "ipython",
    "version": 3
   },
   "file_extension": ".py",
   "mimetype": "text/x-python",
   "name": "python",
   "nbconvert_exporter": "python",
   "pygments_lexer": "ipython3",
   "version": "3.7.3"
  }
 },
 "nbformat": 4,
 "nbformat_minor": 2
}
